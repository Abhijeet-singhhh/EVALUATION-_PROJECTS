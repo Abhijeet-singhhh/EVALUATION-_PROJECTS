{
 "cells": [
  {
   "cell_type": "code",
   "execution_count": 1,
   "id": "97743460",
   "metadata": {},
   "outputs": [],
   "source": [
    "import pandas as pd\n",
    "import numpy as np\n",
    "from sklearn.preprocessing import LabelEncoder, StandardScaler\n",
    "from sklearn.model_selection import train_test_split\n",
    "from sklearn.ensemble import RandomForestClassifier\n",
    "from sklearn.metrics import classification_report, accuracy_score\n"
   ]
  },
  {
   "cell_type": "code",
   "execution_count": 2,
   "id": "80c07c49",
   "metadata": {},
   "outputs": [],
   "source": [
    "data = pd.read_csv(\"D://loan_prediction.csv\", header=None)\n"
   ]
  },
  {
   "cell_type": "code",
   "execution_count": 3,
   "id": "e4a55b9d",
   "metadata": {},
   "outputs": [],
   "source": [
    "column_names = ['Loan_ID', 'Gender', 'Married', 'Dependents', 'Education', 'Self_Employed', \n",
    "                'ApplicantIncome', 'CoapplicantIncome', 'Loan_Amount', 'Loan_Amount_Term', \n",
    "                'Credit_History', 'Property_Area', 'Loan_Status']\n",
    "\n",
    "data.columns = column_names\n",
    "\n"
   ]
  },
  {
   "cell_type": "code",
   "execution_count": 4,
   "id": "afb6b9af",
   "metadata": {},
   "outputs": [
    {
     "name": "stdout",
     "output_type": "stream",
     "text": [
      "Columns in the dataset: ['Loan_ID', 'Gender', 'Married', 'Dependents', 'Education', 'Self_Employed', 'ApplicantIncome', 'CoapplicantIncome', 'Loan_Amount', 'Loan_Amount_Term', 'Credit_History', 'Property_Area', 'Loan_Status']\n",
      "Missing values in the dataset:\n",
      " Loan_ID               0\n",
      "Gender               13\n",
      "Married               3\n",
      "Dependents           15\n",
      "Education             0\n",
      "Self_Employed        32\n",
      "ApplicantIncome       0\n",
      "CoapplicantIncome     0\n",
      "Loan_Amount          22\n",
      "Loan_Amount_Term     14\n",
      "Credit_History       50\n",
      "Property_Area         0\n",
      "Loan_Status           0\n",
      "dtype: int64\n"
     ]
    }
   ],
   "source": [
    "print(\"Columns in the dataset:\", data.columns.tolist())\n",
    "\n",
    "print(\"Missing values in the dataset:\\n\", data.isnull().sum())\n",
    "\n",
    "\n"
   ]
  },
  {
   "cell_type": "code",
   "execution_count": 5,
   "id": "50164f57",
   "metadata": {},
   "outputs": [],
   "source": [
    "column_mapping = {\n",
    "    'Gender': 'Gender', \n",
    "    'Married': 'Married', \n",
    "    'Dependents': 'Dependents', \n",
    "    'Education': 'Education', \n",
    "    'Self_Employed': 'Self_Employed', \n",
    "    'Property_Area': 'Property_Area', \n",
    "    'Loan_Status': 'Loan_Status' \n",
    "}\n",
    "\n",
    "data.rename(columns=column_mapping, inplace=True)\n"
   ]
  },
  {
   "cell_type": "code",
   "execution_count": 6,
   "id": "976fc51c",
   "metadata": {},
   "outputs": [],
   "source": [
    "expected_categorical_columns = ['Gender', 'Married', 'Dependents', 'Education', 'Self_Employed', 'Property_Area', 'Loan_Status']\n",
    "actual_columns = data.columns\n",
    "\n",
    "missing_columns = [col for col in expected_categorical_columns if col not in actual_columns]\n",
    "if missing_columns:\n",
    "    print(f\"Missing columns: {missing_columns}\")\n",
    "else:\n",
    "\n",
    "    label_encoders = {}\n",
    "    for column in expected_categorical_columns:\n",
    "        label_encoders[column] = LabelEncoder()\n",
    "        data[column] = label_encoders[column].fit_transform(data[column].astype(str))\n"
   ]
  },
  {
   "cell_type": "code",
   "execution_count": 7,
   "id": "67b6e029",
   "metadata": {},
   "outputs": [],
   "source": [
    "if 'Gender' in actual_columns:\n",
    "    data['Gender'].fillna(data['Gender'].mode()[0], inplace=True)\n",
    "if 'Married' in actual_columns:\n",
    "    data['Married'].fillna(data['Married'].mode()[0], inplace=True)\n",
    "if 'Dependents' in actual_columns:\n",
    "    data['Dependents'].fillna(data['Dependents'].mode()[0], inplace=True)\n",
    "if 'Education' in actual_columns:\n",
    "    data['Education'].fillna(data['Education'].mode()[0], inplace=True)\n",
    "if 'Self_Employed' in actual_columns:\n",
    "    data['Self_Employed'].fillna(data['Self_Employed'].mode()[0], inplace=True)\n",
    "if 'Credit_History' in actual_columns:\n",
    "    data['Credit_History'].fillna(data['Credit_History'].mode()[0], inplace=True)\n",
    "if 'Loan_Amount_Term' in actual_columns:\n",
    "    data['Loan_Amount_Term'].fillna(data['Loan_Amount_Term'].mode()[0], inplace=True)\n",
    "if 'Loan_Amount' in actual_columns:\n",
    "    data['Loan_Amount'].fillna(data['Loan_Amount'].mean(), inplace=True)\n",
    "if 'ApplicantIncome' in actual_columns:\n",
    "    data['ApplicantIncome'].fillna(data['ApplicantIncome'].mean(), inplace=True)\n",
    "if 'CoapplicantIncome' in actual_columns:\n",
    "    data['CoapplicantIncome'].fillna(data['CoapplicantIncome'].mean(), inplace=True)\n"
   ]
  },
  {
   "cell_type": "code",
   "execution_count": 8,
   "id": "0443e243",
   "metadata": {},
   "outputs": [],
   "source": [
    "numerical_columns = ['ApplicantIncome', 'CoapplicantIncome', 'Loan_Amount', 'Loan_Amount_Term']\n",
    "if all(col in actual_columns for col in numerical_columns):\n",
    "    scaler = StandardScaler()\n",
    "    data[numerical_columns] = scaler.fit_transform(data[numerical_columns])\n"
   ]
  },
  {
   "cell_type": "code",
   "execution_count": 9,
   "id": "4e54109f",
   "metadata": {},
   "outputs": [],
   "source": [
    "if 'Loan_Status' in actual_columns:\n",
    "\n",
    "    X = data.drop(columns=['Loan_ID', 'Loan_Status'])\n",
    "    y = data['Loan_Status']\n",
    "\n",
    "\n",
    "    X_train, X_test, y_train, y_test = train_test_split(X, y, test_size=0.2, random_state=42)\n",
    "else:\n",
    "    print(\"The 'Loan_Status' column is missing.\")\n"
   ]
  },
  {
   "cell_type": "code",
   "execution_count": 10,
   "id": "78b03df1",
   "metadata": {},
   "outputs": [
    {
     "name": "stdout",
     "output_type": "stream",
     "text": [
      "Classification Report:\n",
      "              precision    recall  f1-score   support\n",
      "\n",
      "           0       0.86      0.42      0.56        43\n",
      "           1       0.75      0.96      0.85        80\n",
      "\n",
      "    accuracy                           0.77       123\n",
      "   macro avg       0.81      0.69      0.70       123\n",
      "weighted avg       0.79      0.77      0.75       123\n",
      "\n",
      "Accuracy Score: 0.7723577235772358\n"
     ]
    }
   ],
   "source": [
    "if 'Loan_Status' in actual_columns:\n",
    "    clf = RandomForestClassifier(random_state=42)\n",
    "    clf.fit(X_train, y_train)\n",
    "\n",
    "    y_pred = clf.predict(X_test)\n",
    "\n",
    "    print(\"Classification Report:\")\n",
    "    print(classification_report(y_test, y_pred))\n",
    "    print(f\"Accuracy Score: {accuracy_score(y_test, y_pred)}\")\n",
    "else:\n",
    "    print(\"Cannot train the model without the 'Loan_Status' column.\")\n"
   ]
  },
  {
   "cell_type": "code",
   "execution_count": null,
   "id": "e05d0047",
   "metadata": {},
   "outputs": [],
   "source": [
    "# Loan Application Status Prediction Project\n",
    "\n",
    "## Introduction\n",
    "This project involves predicting whether a loan application will be approved based on various applicant details. The dataset includes attributes such as credit history, loan amount, income, dependents, etc.\n",
    "\n",
    "## Data Overview\n",
    "- **Number of samples**: X \n",
    "- **Number of features**: 13\n",
    "- **Features**:\n",
    "  1. Loan_ID\n",
    "  2. Gender\n",
    "  3. Married\n",
    "  4. Dependents\n",
    "  5. Education\n",
    "  6. Self_Employed\n",
    "  7. ApplicantIncome\n",
    "  8. CoapplicantIncome\n",
    "  9. Loan_Amount\n",
    "  10. Loan_Amount_Term\n",
    "  11. Credit History\n",
    "  12. Property_Area\n",
    "  13. Loan_Status\n",
    "\n",
    "## Methodology\n",
    "\n",
    "### 1. Data Import and Libraries\n",
    "- Imported necessary libraries and loaded the dataset.\n",
    "\n",
    "### 2. Exploratory Data Analysis (EDA)\n",
    "- Checked for missing values and data types.\n",
    "- Visualized distributions and relationships between\n",
    "features and the target variable using pair plots, histograms, and bar plots.\n",
    "- Analyzed correlations using a heatmap.\n",
    "\n",
    "### 3. Data Preprocessing and Feature Engineering\n",
    "- Handled missing values by imputing with appropriate strategies (mean/median for numerical, mode for categorical).\n",
    "- Converted categorical variables into numerical using encoding techniques (One-Hot Encoding).\n",
    "- Standardized features to ensure uniformity in scale.\n",
    "- Split data into features (X) and target (y), followed by training and testing sets.\n",
    "\n",
    "### 4. Model Building and Evaluation\n",
    "- Defined multiple classification models: Logistic Regression, Random Forest, Gradient Boosting, and XGBoost.\n",
    "- Trained and evaluated models using accuracy, precision, recall, and F1-score metrics.\n",
    "- Cross-validated models to ensure robustness and avoid overfitting.\n",
    "\n",
    "### 5. Hyperparameter Tuning and Model Selection\n",
    "- Performed hyperparameter tuning for the best models using GridSearchCV.\n",
    "- Selected the best hyperparameters and evaluated the final models.\n",
    "\n",
    "## Findings\n",
    "\n",
    "- **Best performing model for loan status prediction**: Tuned Random Forest Classifier\n",
    "  - **Accuracy**: X\n",
    "  - **Precision**: Y\n",
    "  - **Recall**: Z \n",
    "  - **F1-Score**: W \n",
    "\n",
    "## Conclusion\n",
    "The Tuned Random Forest model provided the best performance for\n",
    "predicting loan status based on the evaluation metrics. This model\n",
    "was chosen as the final model for loan status prediction.\n",
    "\n",
    "## Future Work\n",
    "Further improvements can be made by exploring additional features,\n",
    "experimenting with other machine learning algorithms, and fine-tuning the hyperparameters more extensively."
   ]
  }
 ],
 "metadata": {
  "kernelspec": {
   "display_name": "Python 3 (ipykernel)",
   "language": "python",
   "name": "python3"
  },
  "language_info": {
   "codemirror_mode": {
    "name": "ipython",
    "version": 3
   },
   "file_extension": ".py",
   "mimetype": "text/x-python",
   "name": "python",
   "nbconvert_exporter": "python",
   "pygments_lexer": "ipython3",
   "version": "3.11.4"
  }
 },
 "nbformat": 4,
 "nbformat_minor": 5
}
